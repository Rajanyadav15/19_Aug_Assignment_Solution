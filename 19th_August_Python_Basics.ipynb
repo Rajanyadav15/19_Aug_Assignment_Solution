{
 "cells": [
  {
   "cell_type": "markdown",
   "id": "69f53b2d-dd24-4f64-9b41-abf5b25e5203",
   "metadata": {},
   "source": [
    "### 1. Declare two variables, `x` and `y`, and assign them integer values. Swap the values of these variables without using any temporary variable."
   ]
  },
  {
   "cell_type": "code",
   "execution_count": 1,
   "id": "f4533941-9873-4c31-adcd-8ac93faf93b7",
   "metadata": {},
   "outputs": [
    {
     "name": "stdout",
     "output_type": "stream",
     "text": [
      "Before swap x : 15 and y: 20\n",
      "After swap x: 20 and y: 15\n"
     ]
    }
   ],
   "source": [
    "# step 1: Declare and initialize variables\n",
    "x = 15\n",
    "y = 20\n",
    "\n",
    "# step 2 : creating function to swap the variables\n",
    "def swap_variables(x,y):\n",
    "    print(f\"Before swap x : {x} and y: {y}\")\n",
    "    x,y= y,x\n",
    "    print(f\"After swap x: {x} and y: {y}\")\n",
    "\n",
    "swap_variables(x,y)"
   ]
  },
  {
   "cell_type": "markdown",
   "id": "24a15bc9-4de9-4fb6-b0aa-636861b73999",
   "metadata": {},
   "source": [
    "- x = 5: This line initializes a variable named x with the value 5.\n",
    "\n",
    "- y = 10: This line initializes a variable named y with the value 10.\n",
    "\n",
    "- def swap_variables(x, y):: This line starts the definition of a function named swap_variables that takes two parameters, x and y.\n",
    "\n",
    "- print(f\"Before swap x: {x} and y: {y}\"): Inside the function, this line prints the values of x and y before the swapping operation. The f before the string indicates an f-string, which allows you to embed variables' values directly into the string.\n",
    "\n",
    "- x, y = y, x: This line is where the swapping of the variables' values occurs. It uses a tuple unpacking technique to simultaneously swap the values of x and y. After this line executes, the value of x becomes the original value of y, and the value of y becomes the original value of x.\n",
    "\n",
    "- print(f\"After swap x: {x} and y: {y}\"): This line prints the values of x and y after the swapping operation has taken place.\n",
    "\n",
    "- swap_variables(x, y): This line calls the swap_variables function that was defined earlier. The values of x and y that were initially set to 5 and 10 are passed as arguments to the function."
   ]
  },
  {
   "cell_type": "markdown",
   "id": "04c15a09-a5b4-4b8c-8840-deb446a37726",
   "metadata": {},
   "source": [
    "### 2. Create a program that calculates the area of a rectangle. Take the length and width as inputs from the user and store them in variables. Calculate and display the area."
   ]
  },
  {
   "cell_type": "code",
   "execution_count": 2,
   "id": "fd48ee65-cc4f-42b0-8ac0-86088396baac",
   "metadata": {},
   "outputs": [
    {
     "name": "stdin",
     "output_type": "stream",
     "text": [
      "Enter the length of the rectangle:  56\n",
      "Enter the width of the rectangle:  45\n"
     ]
    },
    {
     "name": "stdout",
     "output_type": "stream",
     "text": [
      "The area of the rectangle is: 2520.0\n"
     ]
    }
   ],
   "source": [
    "# Step1 : Get input from user for length and width\n",
    "length = float(input(\"Enter the length of the rectangle: \")) #Taking user input for length and converting it to a floating-point number\n",
    "width = float(input(\"Enter the width of the rectangle: \")) #Taking user input for width and converting it to a floating-point number\n",
    "\n",
    "\n",
    "# Step 2: Calculate the area of the rectangle using the formula: area = length * width\n",
    "area = length * width # Calculating the area by multiplying length and width\n",
    "\n",
    "# Step 3: Display the calculated area to the user\n",
    "print(\"The area of the rectangle is:\", area) # Printing the calculated area"
   ]
  },
  {
   "cell_type": "markdown",
   "id": "3f76fe73-ad50-42d0-ae59-84c2cc14783c",
   "metadata": {},
   "source": [
    "- We start by using the input() function to receive input from the user for the length and width of the rectangle. The input() function returns a string, so we use float() to convert the input to floating-point numbers since length and\n",
    "width can have decimal values.\n",
    "\n",
    "- The area of a rectangle is calculated by multiplying its length and width. So, we calculate the area using the formula area = length * width.\n",
    "\n",
    "- Finally, we display the calculated area to the user using the print() function. We concatenate the string \"The area of the rectangle is:\" with the calculated area variable to present the result to the user."
   ]
  },
  {
   "cell_type": "markdown",
   "id": "fe9b0e91-906b-43cc-b267-80ead5f2682a",
   "metadata": {},
   "source": [
    "### 3. Write a Python program that converts temperatures from Celsius to Fahrenheit. Take the temperature in Celsius as input, store it in a variable, convert it to Fahrenheit, and display the result."
   ]
  },
  {
   "cell_type": "code",
   "execution_count": 3,
   "id": "b0f6fe27-787e-49b8-aa99-676d87e8a4fd",
   "metadata": {},
   "outputs": [
    {
     "name": "stdin",
     "output_type": "stream",
     "text": [
      "Enter the temperature in celsius:  567.80\n"
     ]
    },
    {
     "name": "stdout",
     "output_type": "stream",
     "text": [
      "567.8 Celsius is equal to 1054.04 Fahrenheit\n"
     ]
    }
   ],
   "source": [
    "# Step 1 : Get the temperature in celsius from the user\n",
    "celsius_temperature = float(input(\"Enter the temperature in celsius: \" ))\n",
    "\n",
    "# Step 2: Convert Celsius to Fahrenheit using the formula: (C * 9/5) + 32\n",
    "Fahrenheit_temperature = (celsius_temperature * 9/5) + 32\n",
    "\n",
    "# Step 3: Display the converted temperature in Fahrenheit\n",
    "print(f\"{celsius_temperature} Celsius is equal to {Fahrenheit_temperature:.2f} Fahrenheit\")"
   ]
  },
  {
   "cell_type": "markdown",
   "id": "d788986e-4cbe-453f-bdb7-0bd089ef853d",
   "metadata": {},
   "source": [
    "- We start by getting the temperature in Celsius from the user using the input() function. The float() function is used to convert the input to a floating-point number (decimal number) since temperatures can have decimal values.\n",
    "\n",
    "- Next, we perform the conversion from Celsius to Fahrenheit using the given formula: Fahrenheit = (Celsius * 9/5) + 32. We store the result in the fahrenheit_temperature variable.\n",
    "\n",
    "- Finally, we use the print() function to display the original Celsius temperature and the converted Fahrenheit temperature. The :.2f inside the curly braces in the print() statement is used to format the output to display the Fahrenheit temperature with two decimal places."
   ]
  },
  {
   "cell_type": "markdown",
   "id": "7307edb0-dea0-4aaa-bf82-a5c3931d3329",
   "metadata": {},
   "source": [
    "## **String based questions**"
   ]
  },
  {
   "cell_type": "markdown",
   "id": "6f224cfa-f368-406e-ac6c-c46fbd1d978c",
   "metadata": {},
   "source": [
    " ### 1. Write a Python program that takes a string as input and prints the length of the string"
   ]
  },
  {
   "cell_type": "code",
   "execution_count": 4,
   "id": "8ffb6e6f-c078-4103-be2c-c6c7c776c141",
   "metadata": {},
   "outputs": [
    {
     "name": "stdin",
     "output_type": "stream",
     "text": [
      "Enter  a string:  Rajan Kumar\n"
     ]
    },
    {
     "name": "stdout",
     "output_type": "stream",
     "text": [
      "The length of the input string is:  11\n"
     ]
    }
   ],
   "source": [
    "# Step 1 : Get input from the user\n",
    "input_string = input(\"Enter  a string: \")\n",
    "\n",
    "# Step 2 : Calculate the length of the input string using the built-in len() function\n",
    "string_length = len(input_string)\n",
    "\n",
    "# Step 3 : Print the length of the string\n",
    "print(\"The length of the input string is: \", string_length)"
   ]
  },
  {
   "cell_type": "markdown",
   "id": "b1aa557c-07c5-4fd5-9f9b-f04b69e6dab8",
   "metadata": {},
   "source": [
    "- `input_string = input(\"Enter a string: \")` : This line prompts the user to enter a string and reads the input from the user.\n",
    "The entered string is stored in the variable input_string.\n",
    "- `string_length = len(input_string)` : This line calculates the length of the input_string using the built-in len() function.\n",
    "- The length value is stored in the variable `string_length`.\n",
    "- `print(\"The length of the input string is:\", string_length)` : This line prints out a message along with the length of the input string.\n",
    "- The message is \"The length of the input string is:\", followed by the value of string_length."
   ]
  },
  {
   "cell_type": "markdown",
   "id": "241d4650-6fa2-43e1-93dd-046c20d6a4aa",
   "metadata": {},
   "source": [
    "### 2. Create a program that takes a sentence from the user and counts the number of vowels (a, e, i, o, u) in the string."
   ]
  },
  {
   "cell_type": "code",
   "execution_count": 5,
   "id": "e2884e76-6422-40c9-91bb-ea3ef78cef14",
   "metadata": {},
   "outputs": [
    {
     "name": "stdin",
     "output_type": "stream",
     "text": [
      "Enter a Sentence:  Hello World, I am Rajan Kumar\n"
     ]
    },
    {
     "name": "stdout",
     "output_type": "stream",
     "text": [
      "Number of Vowels: 9\n"
     ]
    }
   ],
   "source": [
    "# Step 1: Get input from the user\n",
    "sentence = input(\"Enter a Sentence: \")\n",
    "\n",
    "#Step 2: Intialize a variables to count the vowels\n",
    "vowel_count = 0\n",
    "\n",
    "# Step 3 : Iterate through each character in the sentence\n",
    "for char in sentence:\n",
    "    # Step 4 : Convert the character to lowercase to handle both uppercase and lowecase vowels\n",
    "    char_lower = char.lower()\n",
    "    \n",
    "    #Step 5: Check if the character is a vowel (a, e, i, o, u)\n",
    "    if char_lower in \"aeiou\":\n",
    "        # Step 6 : if the character is a vowel, increment the vowel_count variable\n",
    "        vowel_count += 1\n",
    "        \n",
    "# step 7 : Dispaly the result\n",
    "print(\"Number of Vowels:\", vowel_count)"
   ]
  },
  {
   "cell_type": "markdown",
   "id": "17dce9bb-e3d5-4062-a3d0-8f2fc461c114",
   "metadata": {},
   "source": [
    "- We start by using the input() function to get a sentence from the user and store it in the variable sentence.\n",
    "\n",
    "- We initialize a variable called vowel_count to keep track of the number of vowels in the sentence.\n",
    "\n",
    "- We use a for loop to iterate through each character in the sentence.\n",
    "\n",
    "- To ensure we capture both uppercase and lowercase vowels, we convert the character to lowercase using the .lower() method and store it in the variable char_lower.\n",
    "\n",
    "- We check if the lowercase character (char_lower) is one of the vowels by using the in operator and the string \"aeiou\".\n",
    "\n",
    "- If the character is a vowel, we increment the vowel_count variable by 1.\n",
    "\n",
    "- After iterating through all characters in the sentence, we print out the final count of vowels using the print() function."
   ]
  },
  {
   "cell_type": "markdown",
   "id": "21db3d92-1d1a-4553-be12-1594000e15d8",
   "metadata": {},
   "source": [
    "### 3. Given a string, reverse the order of characters using string slicing and print the reversed string."
   ]
  },
  {
   "cell_type": "code",
   "execution_count": 6,
   "id": "4ccea123-b833-428d-a7bd-41b88d4ab245",
   "metadata": {},
   "outputs": [
    {
     "name": "stdin",
     "output_type": "stream",
     "text": [
      "Enter a string:  Rajan\n"
     ]
    },
    {
     "name": "stdout",
     "output_type": "stream",
     "text": [
      "Reversed string: najaR\n"
     ]
    }
   ],
   "source": [
    "# Step 1: Get the input string from the user\n",
    "input_string = input(\"Enter a string: \")\n",
    "\n",
    "# Step 2: Use string slicing to reverse the string\n",
    "# Syntax: [start:end:step]\n",
    "# Here, we start from the end of the string, move backward with step -1, and stop at the beginning.\n",
    "reversed_string = input_string[::-1]\n",
    "\n",
    "# Step 3: Print the reversed string\n",
    "print(\"Reversed string:\", reversed_string)"
   ]
  },
  {
   "cell_type": "markdown",
   "id": "ccd5eb64-1409-47a0-9cfa-e07ef8be4a12",
   "metadata": {},
   "source": [
    "- We use the input() function to get a string input from the user and store it in the variable input_string.\n",
    "\n",
    "- To reverse the string using string slicing, we use the slicing syntax [start:end:step]. In this case, start is not specified, so it defaults to the beginning of the string. end is not specified either, so it defaults to the end of the string. step is -1, which means we are moving backward through the string. So, by using input_string[::-1], we are effectively reversing the string.\n",
    "\n",
    "- We print the reversed string using the print() function. The text \"Reversed string:\" is printed followed by the value of the reversed_string variable, which contains the reversed input string."
   ]
  },
  {
   "cell_type": "markdown",
   "id": "42a747bf-d788-4568-a1f0-ee40a5c798c8",
   "metadata": {},
   "source": [
    " ### 4. Write a program that takes a string as input and checks if it is a palindrome (reads the same forwards and backwards)."
   ]
  },
  {
   "cell_type": "code",
   "execution_count": 7,
   "id": "cb9116e3-c608-4f2a-ad44-8846608c182f",
   "metadata": {},
   "outputs": [
    {
     "name": "stdin",
     "output_type": "stream",
     "text": [
      "Enter a string:  Naman\n"
     ]
    },
    {
     "name": "stdout",
     "output_type": "stream",
     "text": [
      "The input string is a palindrome.\n"
     ]
    }
   ],
   "source": [
    "# Step 1: Get input from the user\n",
    "input_string = input(\"Enter a string: \")\n",
    "\n",
    "# Step 2: Remove spaces and convert the input string to lowercase\n",
    "cleaned_string = input_string.replace(\" \", \"\").lower()\n",
    "\n",
    "# Step 3: Reverse the cleaned string using slicing\n",
    "reversed_string = cleaned_string[::-1]\n",
    "\n",
    "# Step 4: Compare the cleaned string with its reverse to check for palindrome\n",
    "if cleaned_string == reversed_string:\n",
    "    print(\"The input string is a palindrome.\")\n",
    "else:\n",
    "    print(\"The input string is not a palindrome.\")"
   ]
  },
  {
   "cell_type": "markdown",
   "id": "dd4802d0-1a50-40a3-a93a-68d7591dba89",
   "metadata": {},
   "source": [
    "- We start by taking user input using the input() function and store it in the variable input_string.\n",
    "- We remove spaces from the input string using the replace() method and convert it to lowercase using the lower() method. This step is necessary to ensure that the comparison is case-insensitive and doesn't consider spaces.\n",
    "- We create the reversed_string by slicing the cleaned_string with a step of -1, which effectively reverses the string.\n",
    "- We compare the cleaned_string with its reversed version (reversed_string) using an if statement. If they are equal, we print that the input string is a palindrome; otherwise, we print that it's not a palindrome."
   ]
  },
  {
   "cell_type": "markdown",
   "id": "5b4a1658-3d58-4b12-9293-f813d2c65214",
   "metadata": {},
   "source": [
    "### 5. Create a program that takes a string as input and removes all the spaces from it. Print the modified string without spaces."
   ]
  },
  {
   "cell_type": "code",
   "execution_count": 9,
   "id": "80d7e4eb-dea3-469d-b4b7-b7c74f2163f7",
   "metadata": {},
   "outputs": [
    {
     "name": "stdin",
     "output_type": "stream",
     "text": [
      "Enter a string:  Ra ja n\n"
     ]
    },
    {
     "name": "stdout",
     "output_type": "stream",
     "text": [
      "Modified string without spaces: Rajan\n"
     ]
    }
   ],
   "source": [
    "# Step 1: Take input from the user\n",
    "input_string = input(\"Enter a string: \")\n",
    "\n",
    "# Step 2: Initialize an empty string to store the modified string without spaces\n",
    "modified_string = \"\"\n",
    "\n",
    "# Step 3: Iterate through each character in the input string\n",
    "for char in input_string:\n",
    "    # Step 4: Check if the character is not a space\n",
    "    if char != \" \":\n",
    "        # Step 5: If not a space, append the character to the modified string\n",
    "        modified_string += char\n",
    "\n",
    "# Step 6: Print the modified string without spaces\n",
    "print(\"Modified string without spaces:\", modified_string)"
   ]
  },
  {
   "cell_type": "markdown",
   "id": "96439c7f-7ff0-4a95-b1ac-0646ccabf81b",
   "metadata": {},
   "source": [
    "- We start by taking input from the user using the input() function and store it in the variable input_string.\n",
    "- We initialize an empty string modified_string to store the final string without spaces.\n",
    "- We use a for loop to iterate through each character in the input_string.\n",
    "  - Inside the loop, we check if the current character is not a space (denoted by \" \").\n",
    "  - If the character is not a space, we append it to the modified_string using the += operator.\n",
    "- Finally, after the loop completes, we print the modified string without spaces."
   ]
  }
 ],
 "metadata": {
  "kernelspec": {
   "display_name": "Python 3 (ipykernel)",
   "language": "python",
   "name": "python3"
  },
  "language_info": {
   "codemirror_mode": {
    "name": "ipython",
    "version": 3
   },
   "file_extension": ".py",
   "mimetype": "text/x-python",
   "name": "python",
   "nbconvert_exporter": "python",
   "pygments_lexer": "ipython3",
   "version": "3.10.8"
  }
 },
 "nbformat": 4,
 "nbformat_minor": 5
}
